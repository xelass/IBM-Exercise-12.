{
 "cells": [
  {
   "cell_type": "markdown",
   "id": "fdd3876a-7192-4831-ba32-0df9295701a3",
   "metadata": {},
   "source": [
    "# Data Science Tools and Ecosystem"
   ]
  },
  {
   "cell_type": "markdown",
   "id": "9a22a6db-e88f-471f-bf3e-508ae99ac674",
   "metadata": {},
   "source": [
    "In this notebook, Data Science Tools and Ecosystem are summarized.\n",
    "\n"
   ]
  },
  {
   "cell_type": "markdown",
   "id": "bbef0427-a46e-4e2b-99b7-f08a13331c5e",
   "metadata": {},
   "source": [
    "**Objectives:**"
   ]
  },
  {
   "cell_type": "markdown",
   "id": "9389ed64-70e4-4aeb-add9-b499dc564c5c",
   "metadata": {},
   "source": [
    "* List popular languages for Data Science\n",
    "* Libraries used by Data Scientists\n",
    "* Examples of evaluating arithmetic expressions"
   ]
  },
  {
   "cell_type": "markdown",
   "id": "de12789f-326a-4d4b-a076-07d948b0b634",
   "metadata": {},
   "source": [
    "Some of the popular languages that Data Scientists use are:\n"
   ]
  },
  {
   "cell_type": "code",
   "execution_count": 22,
   "id": "c74caaab-90a8-4a29-a19e-f11d2b779d4c",
   "metadata": {},
   "outputs": [],
   "source": [
    "q = \"SQL\"\n",
    "w=  \"Python\"\n",
    "r= \"R\"\n",
    "Lista= [q,w,r]"
   ]
  },
  {
   "cell_type": "code",
   "execution_count": 24,
   "id": "002a61b2-abfb-4ee4-bcd0-93376c93b04f",
   "metadata": {},
   "outputs": [
    {
     "name": "stdout",
     "output_type": "stream",
     "text": [
      "['SQL', 'Python', 'R']\n"
     ]
    }
   ],
   "source": [
    "print(Lista)"
   ]
  },
  {
   "cell_type": "markdown",
   "id": "35115a20-dc85-4bf3-875d-17d33c6f93e8",
   "metadata": {},
   "source": [
    "Some of the commonly used libraries used by Data Scientists include:\n"
   ]
  },
  {
   "cell_type": "code",
   "execution_count": 28,
   "id": "6e7e0667-7b0c-46ca-883d-e50771ab8371",
   "metadata": {},
   "outputs": [],
   "source": [
    "a = \"dplyr\"\n",
    "b=  \"ggplot\"\n",
    "c= \"plotly\"\n",
    "Lista2= [a,b,c]"
   ]
  },
  {
   "cell_type": "code",
   "execution_count": 30,
   "id": "39c4aa1f-f702-49f2-8754-563e20a790b6",
   "metadata": {},
   "outputs": [
    {
     "name": "stdout",
     "output_type": "stream",
     "text": [
      "['dplyr', 'ggplot', 'plotly']\n"
     ]
    }
   ],
   "source": [
    "print(Lista2)"
   ]
  },
  {
   "cell_type": "raw",
   "id": "8b18b33c-3e41-4e09-a722-192e064c3563",
   "metadata": {},
   "source": [
    "| Data Science Tools |\n",
    "| ------------------ |\n",
    "|Apache spark |\n",
    "|Tensor Flow |\n",
    "|Scikit-learn |"
   ]
  },
  {
   "cell_type": "markdown",
   "id": "d268003d-3918-43a0-9d4e-c9cabccde59b",
   "metadata": {},
   "source": [
    "### Below are a few examples of evaluating arithmetic expressions in Python.\n",
    "\n"
   ]
  },
  {
   "cell_type": "code",
   "execution_count": 35,
   "id": "58f889b0-9d96-4fa7-b466-e123ab677d76",
   "metadata": {},
   "outputs": [
    {
     "data": {
      "text/plain": [
       "17"
      ]
     },
     "execution_count": 35,
     "metadata": {},
     "output_type": "execute_result"
    }
   ],
   "source": [
    "(3*4)+5"
   ]
  },
  {
   "cell_type": "markdown",
   "id": "a71672c9-eefb-4d15-9708-90969540fe2f",
   "metadata": {},
   "source": [
    "This a simple arithmetic expression to mutiply then add integers."
   ]
  },
  {
   "cell_type": "code",
   "execution_count": 44,
   "id": "e3da9b39-b318-49a2-867e-3ea467306b03",
   "metadata": {},
   "outputs": [],
   "source": [
    "\n",
    "numero= 200/60"
   ]
  },
  {
   "cell_type": "markdown",
   "id": "1d4eba29-1737-4cc9-9bc8-52527defd3ae",
   "metadata": {},
   "source": [
    "This will convert 200 minutes to hours by diving by 60"
   ]
  },
  {
   "cell_type": "code",
   "execution_count": 52,
   "id": "1f33b983-a66d-47a6-9624-9338a5b408c6",
   "metadata": {},
   "outputs": [
    {
     "data": {
      "text/plain": [
       "'3.3333333333333335 horas'"
      ]
     },
     "execution_count": 52,
     "metadata": {},
     "output_type": "execute_result"
    }
   ],
   "source": [
    "str(numero) + \" horas\""
   ]
  },
  {
   "cell_type": "code",
   "execution_count": 56,
   "id": "10e6d6d5-2a18-4f4a-9509-07ed0d45cdb2",
   "metadata": {},
   "outputs": [],
   "source": [
    "numero= round(numero,2)"
   ]
  },
  {
   "cell_type": "code",
   "execution_count": 58,
   "id": "18da54ac-82b1-4420-b89e-966724008b4b",
   "metadata": {},
   "outputs": [
    {
     "data": {
      "text/plain": [
       "'3.33 horas'"
      ]
     },
     "execution_count": 58,
     "metadata": {},
     "output_type": "execute_result"
    }
   ],
   "source": [
    "str(numero) + \" horas\""
   ]
  },
  {
   "cell_type": "markdown",
   "id": "0299cf0a-e923-45cc-9305-5a00efe5278c",
   "metadata": {},
   "source": [
    "Author"
   ]
  },
  {
   "cell_type": "markdown",
   "id": "bdd5db7b-f12d-4645-a99d-5710b462f853",
   "metadata": {},
   "source": [
    "## Alex Villegas"
   ]
  },
  {
   "cell_type": "code",
   "execution_count": null,
   "id": "a0c1869d-a096-4834-a184-def168f5730e",
   "metadata": {},
   "outputs": [],
   "source": []
  }
 ],
 "metadata": {
  "kernelspec": {
   "display_name": "Python [conda env:base] *",
   "language": "python",
   "name": "conda-base-py"
  },
  "language_info": {
   "codemirror_mode": {
    "name": "ipython",
    "version": 3
   },
   "file_extension": ".py",
   "mimetype": "text/x-python",
   "name": "python",
   "nbconvert_exporter": "python",
   "pygments_lexer": "ipython3",
   "version": "3.12.7"
  }
 },
 "nbformat": 4,
 "nbformat_minor": 5
}
